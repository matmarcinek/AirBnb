{
 "cells": [
  {
   "cell_type": "code",
   "execution_count": 1,
   "id": "2852d759-e4a1-42f7-9ffb-cb7ee1fd2bca",
   "metadata": {},
   "outputs": [],
   "source": [
    "import pandas as pd \n",
    "import numpy as np\n",
    "import matplotlib.pyplot as plt\n",
    "import seaborn as sns"
   ]
  },
  {
   "cell_type": "code",
   "execution_count": 2,
   "id": "e549636a-f929-4ea3-8bdf-cc08651b1f03",
   "metadata": {},
   "outputs": [],
   "source": [
    "abnb=pd.read_excel('https://github.com/matmarcinek/AirBnb/blob/main/data/Airbnb_Open_Data%20python%20analiza.xlsx)"
   ]
  },
  {
   "cell_type": "code",
   "execution_count": 3,
   "id": "4c4d27ba-de01-4e96-a87c-ea23e88f3fb3",
   "metadata": {},
   "outputs": [
    {
     "data": {
      "text/html": [
       "<div>\n",
       "<style scoped>\n",
       "    .dataframe tbody tr th:only-of-type {\n",
       "        vertical-align: middle;\n",
       "    }\n",
       "\n",
       "    .dataframe tbody tr th {\n",
       "        vertical-align: top;\n",
       "    }\n",
       "\n",
       "    .dataframe thead th {\n",
       "        text-align: right;\n",
       "    }\n",
       "</style>\n",
       "<table border=\"1\" class=\"dataframe\">\n",
       "  <thead>\n",
       "    <tr style=\"text-align: right;\">\n",
       "      <th></th>\n",
       "      <th>id</th>\n",
       "      <th>NAME</th>\n",
       "      <th>host id</th>\n",
       "      <th>host_identity_verified</th>\n",
       "      <th>host name</th>\n",
       "      <th>neighbourhood group</th>\n",
       "      <th>neighbourhood</th>\n",
       "      <th>lat</th>\n",
       "      <th>long</th>\n",
       "      <th>country</th>\n",
       "      <th>...</th>\n",
       "      <th>price</th>\n",
       "      <th>service fee</th>\n",
       "      <th>minimum nights</th>\n",
       "      <th>number of reviews</th>\n",
       "      <th>reviews per month</th>\n",
       "      <th>review rate number</th>\n",
       "      <th>calculated host listings count</th>\n",
       "      <th>availability 365</th>\n",
       "      <th>house_rules</th>\n",
       "      <th>license</th>\n",
       "    </tr>\n",
       "  </thead>\n",
       "  <tbody>\n",
       "    <tr>\n",
       "      <th>0</th>\n",
       "      <td>1001254</td>\n",
       "      <td>Clean &amp; quiet apt home by the park</td>\n",
       "      <td>80014485718</td>\n",
       "      <td>unconfirmed</td>\n",
       "      <td>Madaline</td>\n",
       "      <td>Brooklyn</td>\n",
       "      <td>Kensington</td>\n",
       "      <td>40.64749</td>\n",
       "      <td>-73.97237</td>\n",
       "      <td>United States</td>\n",
       "      <td>...</td>\n",
       "      <td>966.0</td>\n",
       "      <td>966.0</td>\n",
       "      <td>10.0</td>\n",
       "      <td>9.0</td>\n",
       "      <td>0.21</td>\n",
       "      <td>4.0</td>\n",
       "      <td>6.0</td>\n",
       "      <td>286.0</td>\n",
       "      <td>Clean up and treat the home the way you'd like...</td>\n",
       "      <td>NaN</td>\n",
       "    </tr>\n",
       "    <tr>\n",
       "      <th>1</th>\n",
       "      <td>1002102</td>\n",
       "      <td>Skylit Midtown Castle</td>\n",
       "      <td>52335172823</td>\n",
       "      <td>verified</td>\n",
       "      <td>Jenna</td>\n",
       "      <td>Manhattan</td>\n",
       "      <td>Midtown</td>\n",
       "      <td>40.75362</td>\n",
       "      <td>-73.98377</td>\n",
       "      <td>United States</td>\n",
       "      <td>...</td>\n",
       "      <td>142.0</td>\n",
       "      <td>142.0</td>\n",
       "      <td>30.0</td>\n",
       "      <td>45.0</td>\n",
       "      <td>0.38</td>\n",
       "      <td>4.0</td>\n",
       "      <td>2.0</td>\n",
       "      <td>228.0</td>\n",
       "      <td>Pet friendly but please confirm with me if the...</td>\n",
       "      <td>NaN</td>\n",
       "    </tr>\n",
       "    <tr>\n",
       "      <th>2</th>\n",
       "      <td>1002403</td>\n",
       "      <td>THE VILLAGE OF HARLEM....NEW YORK !</td>\n",
       "      <td>78829239556</td>\n",
       "      <td>NaN</td>\n",
       "      <td>Elise</td>\n",
       "      <td>Manhattan</td>\n",
       "      <td>Harlem</td>\n",
       "      <td>40.80902</td>\n",
       "      <td>-73.94190</td>\n",
       "      <td>United States</td>\n",
       "      <td>...</td>\n",
       "      <td>620.0</td>\n",
       "      <td>620.0</td>\n",
       "      <td>3.0</td>\n",
       "      <td>0.0</td>\n",
       "      <td>NaN</td>\n",
       "      <td>5.0</td>\n",
       "      <td>1.0</td>\n",
       "      <td>352.0</td>\n",
       "      <td>I encourage you to use my kitchen, cooking and...</td>\n",
       "      <td>NaN</td>\n",
       "    </tr>\n",
       "    <tr>\n",
       "      <th>3</th>\n",
       "      <td>1002755</td>\n",
       "      <td>NaN</td>\n",
       "      <td>85098326012</td>\n",
       "      <td>unconfirmed</td>\n",
       "      <td>Garry</td>\n",
       "      <td>Brooklyn</td>\n",
       "      <td>Clinton Hill</td>\n",
       "      <td>40.68514</td>\n",
       "      <td>-73.95976</td>\n",
       "      <td>United States</td>\n",
       "      <td>...</td>\n",
       "      <td>368.0</td>\n",
       "      <td>368.0</td>\n",
       "      <td>30.0</td>\n",
       "      <td>270.0</td>\n",
       "      <td>4.64</td>\n",
       "      <td>4.0</td>\n",
       "      <td>1.0</td>\n",
       "      <td>322.0</td>\n",
       "      <td>NaN</td>\n",
       "      <td>NaN</td>\n",
       "    </tr>\n",
       "    <tr>\n",
       "      <th>4</th>\n",
       "      <td>1003689</td>\n",
       "      <td>Entire Apt: Spacious Studio/Loft by central park</td>\n",
       "      <td>92037596077</td>\n",
       "      <td>verified</td>\n",
       "      <td>Lyndon</td>\n",
       "      <td>Manhattan</td>\n",
       "      <td>East Harlem</td>\n",
       "      <td>40.79851</td>\n",
       "      <td>-73.94399</td>\n",
       "      <td>United States</td>\n",
       "      <td>...</td>\n",
       "      <td>204.0</td>\n",
       "      <td>204.0</td>\n",
       "      <td>10.0</td>\n",
       "      <td>9.0</td>\n",
       "      <td>0.10</td>\n",
       "      <td>3.0</td>\n",
       "      <td>1.0</td>\n",
       "      <td>289.0</td>\n",
       "      <td>Please no smoking in the house, porch or on th...</td>\n",
       "      <td>NaN</td>\n",
       "    </tr>\n",
       "    <tr>\n",
       "      <th>...</th>\n",
       "      <td>...</td>\n",
       "      <td>...</td>\n",
       "      <td>...</td>\n",
       "      <td>...</td>\n",
       "      <td>...</td>\n",
       "      <td>...</td>\n",
       "      <td>...</td>\n",
       "      <td>...</td>\n",
       "      <td>...</td>\n",
       "      <td>...</td>\n",
       "      <td>...</td>\n",
       "      <td>...</td>\n",
       "      <td>...</td>\n",
       "      <td>...</td>\n",
       "      <td>...</td>\n",
       "      <td>...</td>\n",
       "      <td>...</td>\n",
       "      <td>...</td>\n",
       "      <td>...</td>\n",
       "      <td>...</td>\n",
       "      <td>...</td>\n",
       "    </tr>\n",
       "    <tr>\n",
       "      <th>102594</th>\n",
       "      <td>6092437</td>\n",
       "      <td>Spare room in Williamsburg</td>\n",
       "      <td>12312296767</td>\n",
       "      <td>verified</td>\n",
       "      <td>Krik</td>\n",
       "      <td>Brooklyn</td>\n",
       "      <td>Williamsburg</td>\n",
       "      <td>40.70862</td>\n",
       "      <td>-73.94651</td>\n",
       "      <td>United States</td>\n",
       "      <td>...</td>\n",
       "      <td>844.0</td>\n",
       "      <td>844.0</td>\n",
       "      <td>1.0</td>\n",
       "      <td>0.0</td>\n",
       "      <td>NaN</td>\n",
       "      <td>3.0</td>\n",
       "      <td>1.0</td>\n",
       "      <td>227.0</td>\n",
       "      <td>No Smoking No Parties or Events of any kind Pl...</td>\n",
       "      <td>NaN</td>\n",
       "    </tr>\n",
       "    <tr>\n",
       "      <th>102595</th>\n",
       "      <td>6092990</td>\n",
       "      <td>Best Location near Columbia U</td>\n",
       "      <td>77864383453</td>\n",
       "      <td>unconfirmed</td>\n",
       "      <td>Mifan</td>\n",
       "      <td>Manhattan</td>\n",
       "      <td>Morningside Heights</td>\n",
       "      <td>40.80460</td>\n",
       "      <td>-73.96545</td>\n",
       "      <td>United States</td>\n",
       "      <td>...</td>\n",
       "      <td>837.0</td>\n",
       "      <td>837.0</td>\n",
       "      <td>1.0</td>\n",
       "      <td>1.0</td>\n",
       "      <td>0.02</td>\n",
       "      <td>2.0</td>\n",
       "      <td>2.0</td>\n",
       "      <td>395.0</td>\n",
       "      <td>House rules: Guests agree to the following ter...</td>\n",
       "      <td>NaN</td>\n",
       "    </tr>\n",
       "    <tr>\n",
       "      <th>102596</th>\n",
       "      <td>6093542</td>\n",
       "      <td>Comfy, bright room in Brooklyn</td>\n",
       "      <td>69050334417</td>\n",
       "      <td>unconfirmed</td>\n",
       "      <td>Megan</td>\n",
       "      <td>Brooklyn</td>\n",
       "      <td>Park Slope</td>\n",
       "      <td>40.67505</td>\n",
       "      <td>-73.98045</td>\n",
       "      <td>United States</td>\n",
       "      <td>...</td>\n",
       "      <td>988.0</td>\n",
       "      <td>988.0</td>\n",
       "      <td>3.0</td>\n",
       "      <td>0.0</td>\n",
       "      <td>NaN</td>\n",
       "      <td>5.0</td>\n",
       "      <td>1.0</td>\n",
       "      <td>342.0</td>\n",
       "      <td>NaN</td>\n",
       "      <td>NaN</td>\n",
       "    </tr>\n",
       "    <tr>\n",
       "      <th>102597</th>\n",
       "      <td>6094094</td>\n",
       "      <td>Big Studio-One Stop from Midtown</td>\n",
       "      <td>11160591270</td>\n",
       "      <td>unconfirmed</td>\n",
       "      <td>Christopher</td>\n",
       "      <td>Queens</td>\n",
       "      <td>Long Island City</td>\n",
       "      <td>40.74989</td>\n",
       "      <td>-73.93777</td>\n",
       "      <td>United States</td>\n",
       "      <td>...</td>\n",
       "      <td>546.0</td>\n",
       "      <td>546.0</td>\n",
       "      <td>2.0</td>\n",
       "      <td>5.0</td>\n",
       "      <td>0.10</td>\n",
       "      <td>3.0</td>\n",
       "      <td>1.0</td>\n",
       "      <td>386.0</td>\n",
       "      <td>NaN</td>\n",
       "      <td>NaN</td>\n",
       "    </tr>\n",
       "    <tr>\n",
       "      <th>102598</th>\n",
       "      <td>6094647</td>\n",
       "      <td>585 sf Luxury Studio</td>\n",
       "      <td>68170633372</td>\n",
       "      <td>unconfirmed</td>\n",
       "      <td>Rebecca</td>\n",
       "      <td>Manhattan</td>\n",
       "      <td>Upper West Side</td>\n",
       "      <td>40.76807</td>\n",
       "      <td>-73.98342</td>\n",
       "      <td>United States</td>\n",
       "      <td>...</td>\n",
       "      <td>1032.0</td>\n",
       "      <td>1032.0</td>\n",
       "      <td>1.0</td>\n",
       "      <td>0.0</td>\n",
       "      <td>NaN</td>\n",
       "      <td>3.0</td>\n",
       "      <td>1.0</td>\n",
       "      <td>69.0</td>\n",
       "      <td>NaN</td>\n",
       "      <td>NaN</td>\n",
       "    </tr>\n",
       "  </tbody>\n",
       "</table>\n",
       "<p>102599 rows × 25 columns</p>\n",
       "</div>"
      ],
      "text/plain": [
       "             id                                              NAME  \\\n",
       "0       1001254                Clean & quiet apt home by the park   \n",
       "1       1002102                             Skylit Midtown Castle   \n",
       "2       1002403               THE VILLAGE OF HARLEM....NEW YORK !   \n",
       "3       1002755                                               NaN   \n",
       "4       1003689  Entire Apt: Spacious Studio/Loft by central park   \n",
       "...         ...                                               ...   \n",
       "102594  6092437                        Spare room in Williamsburg   \n",
       "102595  6092990                     Best Location near Columbia U   \n",
       "102596  6093542                    Comfy, bright room in Brooklyn   \n",
       "102597  6094094                  Big Studio-One Stop from Midtown   \n",
       "102598  6094647                              585 sf Luxury Studio   \n",
       "\n",
       "            host id host_identity_verified    host name neighbourhood group  \\\n",
       "0       80014485718            unconfirmed     Madaline            Brooklyn   \n",
       "1       52335172823               verified        Jenna           Manhattan   \n",
       "2       78829239556                    NaN        Elise           Manhattan   \n",
       "3       85098326012            unconfirmed        Garry            Brooklyn   \n",
       "4       92037596077               verified       Lyndon           Manhattan   \n",
       "...             ...                    ...          ...                 ...   \n",
       "102594  12312296767               verified         Krik            Brooklyn   \n",
       "102595  77864383453            unconfirmed        Mifan           Manhattan   \n",
       "102596  69050334417            unconfirmed        Megan            Brooklyn   \n",
       "102597  11160591270            unconfirmed  Christopher              Queens   \n",
       "102598  68170633372            unconfirmed      Rebecca           Manhattan   \n",
       "\n",
       "              neighbourhood       lat      long        country  ...   price  \\\n",
       "0                Kensington  40.64749 -73.97237  United States  ...   966.0   \n",
       "1                   Midtown  40.75362 -73.98377  United States  ...   142.0   \n",
       "2                    Harlem  40.80902 -73.94190  United States  ...   620.0   \n",
       "3              Clinton Hill  40.68514 -73.95976  United States  ...   368.0   \n",
       "4               East Harlem  40.79851 -73.94399  United States  ...   204.0   \n",
       "...                     ...       ...       ...            ...  ...     ...   \n",
       "102594         Williamsburg  40.70862 -73.94651  United States  ...   844.0   \n",
       "102595  Morningside Heights  40.80460 -73.96545  United States  ...   837.0   \n",
       "102596           Park Slope  40.67505 -73.98045  United States  ...   988.0   \n",
       "102597     Long Island City  40.74989 -73.93777  United States  ...   546.0   \n",
       "102598      Upper West Side  40.76807 -73.98342  United States  ...  1032.0   \n",
       "\n",
       "        service fee minimum nights number of reviews  reviews per month  \\\n",
       "0             966.0           10.0               9.0               0.21   \n",
       "1             142.0           30.0              45.0               0.38   \n",
       "2             620.0            3.0               0.0                NaN   \n",
       "3             368.0           30.0             270.0               4.64   \n",
       "4             204.0           10.0               9.0               0.10   \n",
       "...             ...            ...               ...                ...   \n",
       "102594        844.0            1.0               0.0                NaN   \n",
       "102595        837.0            1.0               1.0               0.02   \n",
       "102596        988.0            3.0               0.0                NaN   \n",
       "102597        546.0            2.0               5.0               0.10   \n",
       "102598       1032.0            1.0               0.0                NaN   \n",
       "\n",
       "        review rate number  calculated host listings count  availability 365  \\\n",
       "0                      4.0                             6.0             286.0   \n",
       "1                      4.0                             2.0             228.0   \n",
       "2                      5.0                             1.0             352.0   \n",
       "3                      4.0                             1.0             322.0   \n",
       "4                      3.0                             1.0             289.0   \n",
       "...                    ...                             ...               ...   \n",
       "102594                 3.0                             1.0             227.0   \n",
       "102595                 2.0                             2.0             395.0   \n",
       "102596                 5.0                             1.0             342.0   \n",
       "102597                 3.0                             1.0             386.0   \n",
       "102598                 3.0                             1.0              69.0   \n",
       "\n",
       "                                              house_rules  license  \n",
       "0       Clean up and treat the home the way you'd like...      NaN  \n",
       "1       Pet friendly but please confirm with me if the...      NaN  \n",
       "2       I encourage you to use my kitchen, cooking and...      NaN  \n",
       "3                                                     NaN      NaN  \n",
       "4       Please no smoking in the house, porch or on th...      NaN  \n",
       "...                                                   ...      ...  \n",
       "102594  No Smoking No Parties or Events of any kind Pl...      NaN  \n",
       "102595  House rules: Guests agree to the following ter...      NaN  \n",
       "102596                                                NaN      NaN  \n",
       "102597                                                NaN      NaN  \n",
       "102598                                                NaN      NaN  \n",
       "\n",
       "[102599 rows x 25 columns]"
      ]
     },
     "execution_count": 3,
     "metadata": {},
     "output_type": "execute_result"
    }
   ],
   "source": [
    "abnb"
   ]
  },
  {
   "cell_type": "markdown",
   "id": "fb51d6bb-11e9-4e18-bbab-e7ea94d68888",
   "metadata": {},
   "source": [
    "# Checking data types"
   ]
  },
  {
   "cell_type": "code",
   "execution_count": 4,
   "id": "0e022fc5-3c24-470f-9b9d-94409915b5d0",
   "metadata": {},
   "outputs": [
    {
     "data": {
      "text/plain": [
       "id                                  int64\n",
       "NAME                               object\n",
       "host id                             int64\n",
       "host_identity_verified             object\n",
       "host name                          object\n",
       "neighbourhood group                object\n",
       "neighbourhood                      object\n",
       "lat                               float64\n",
       "long                              float64\n",
       "country                            object\n",
       "country code                       object\n",
       "instant_bookable                  float64\n",
       "cancellation_policy                object\n",
       "room type                          object\n",
       "Construction year                 float64\n",
       "price                             float64\n",
       "service fee                       float64\n",
       "minimum nights                    float64\n",
       "number of reviews                 float64\n",
       "reviews per month                 float64\n",
       "review rate number                float64\n",
       "calculated host listings count    float64\n",
       "availability 365                  float64\n",
       "house_rules                        object\n",
       "license                            object\n",
       "dtype: object"
      ]
     },
     "execution_count": 4,
     "metadata": {},
     "output_type": "execute_result"
    }
   ],
   "source": [
    "abnb.dtypes"
   ]
  },
  {
   "cell_type": "markdown",
   "id": "168f8e90-71df-45c2-87e7-bebb958804ba",
   "metadata": {},
   "source": [
    "# initial data exploration "
   ]
  },
  {
   "cell_type": "code",
   "execution_count": 5,
   "id": "952a59d7-0ef4-4d87-a5ef-270d73cf2034",
   "metadata": {},
   "outputs": [
    {
     "data": {
      "text/plain": [
       "Index(['id', 'NAME', 'host id', 'host_identity_verified', 'host name',\n",
       "       'neighbourhood group', 'neighbourhood', 'lat', 'long', 'country',\n",
       "       'country code', 'instant_bookable', 'cancellation_policy', 'room type',\n",
       "       'Construction year', 'price', 'service fee', 'minimum nights',\n",
       "       'number of reviews', 'reviews per month', 'review rate number',\n",
       "       'calculated host listings count', 'availability 365', 'house_rules',\n",
       "       'license'],\n",
       "      dtype='object')"
      ]
     },
     "execution_count": 5,
     "metadata": {},
     "output_type": "execute_result"
    }
   ],
   "source": [
    "abnb.columns"
   ]
  },
  {
   "cell_type": "code",
   "execution_count": 6,
   "id": "348eddc5-673a-49f3-bc78-7f912e863fe9",
   "metadata": {},
   "outputs": [
    {
     "data": {
      "text/plain": [
       "(102599, 25)"
      ]
     },
     "execution_count": 6,
     "metadata": {},
     "output_type": "execute_result"
    }
   ],
   "source": [
    "abnb.shape"
   ]
  },
  {
   "cell_type": "markdown",
   "id": "1a50c6a9-80ca-4d02-aab4-1e4a572b1688",
   "metadata": {},
   "source": [
    "# Statistics "
   ]
  },
  {
   "cell_type": "code",
   "execution_count": 7,
   "id": "dafd39c3-81a0-4863-a22c-8155f834e89f",
   "metadata": {},
   "outputs": [
    {
     "data": {
      "text/html": [
       "<div>\n",
       "<style scoped>\n",
       "    .dataframe tbody tr th:only-of-type {\n",
       "        vertical-align: middle;\n",
       "    }\n",
       "\n",
       "    .dataframe tbody tr th {\n",
       "        vertical-align: top;\n",
       "    }\n",
       "\n",
       "    .dataframe thead th {\n",
       "        text-align: right;\n",
       "    }\n",
       "</style>\n",
       "<table border=\"1\" class=\"dataframe\">\n",
       "  <thead>\n",
       "    <tr style=\"text-align: right;\">\n",
       "      <th></th>\n",
       "      <th>id</th>\n",
       "      <th>host id</th>\n",
       "      <th>lat</th>\n",
       "      <th>long</th>\n",
       "      <th>instant_bookable</th>\n",
       "      <th>Construction year</th>\n",
       "      <th>price</th>\n",
       "      <th>service fee</th>\n",
       "      <th>minimum nights</th>\n",
       "      <th>number of reviews</th>\n",
       "      <th>reviews per month</th>\n",
       "      <th>review rate number</th>\n",
       "      <th>calculated host listings count</th>\n",
       "      <th>availability 365</th>\n",
       "    </tr>\n",
       "  </thead>\n",
       "  <tbody>\n",
       "    <tr>\n",
       "      <th>count</th>\n",
       "      <td>1.025990e+05</td>\n",
       "      <td>1.025990e+05</td>\n",
       "      <td>102591.000000</td>\n",
       "      <td>102591.000000</td>\n",
       "      <td>102494.000000</td>\n",
       "      <td>102385.000000</td>\n",
       "      <td>102352.000000</td>\n",
       "      <td>102352.000000</td>\n",
       "      <td>102190.000000</td>\n",
       "      <td>102416.000000</td>\n",
       "      <td>86720.000000</td>\n",
       "      <td>102273.000000</td>\n",
       "      <td>102280.000000</td>\n",
       "      <td>102151.000000</td>\n",
       "    </tr>\n",
       "    <tr>\n",
       "      <th>mean</th>\n",
       "      <td>2.914623e+07</td>\n",
       "      <td>4.925411e+10</td>\n",
       "      <td>40.728094</td>\n",
       "      <td>-73.949644</td>\n",
       "      <td>0.497785</td>\n",
       "      <td>2012.487464</td>\n",
       "      <td>625.293536</td>\n",
       "      <td>625.293536</td>\n",
       "      <td>8.135845</td>\n",
       "      <td>27.483743</td>\n",
       "      <td>1.374022</td>\n",
       "      <td>3.279106</td>\n",
       "      <td>7.936605</td>\n",
       "      <td>141.133254</td>\n",
       "    </tr>\n",
       "    <tr>\n",
       "      <th>std</th>\n",
       "      <td>1.625751e+07</td>\n",
       "      <td>2.853900e+10</td>\n",
       "      <td>0.055857</td>\n",
       "      <td>0.049521</td>\n",
       "      <td>0.499998</td>\n",
       "      <td>5.765556</td>\n",
       "      <td>331.671614</td>\n",
       "      <td>331.671614</td>\n",
       "      <td>30.553781</td>\n",
       "      <td>49.508954</td>\n",
       "      <td>1.746621</td>\n",
       "      <td>1.284657</td>\n",
       "      <td>32.218780</td>\n",
       "      <td>135.435024</td>\n",
       "    </tr>\n",
       "    <tr>\n",
       "      <th>min</th>\n",
       "      <td>1.001254e+06</td>\n",
       "      <td>1.236005e+08</td>\n",
       "      <td>40.499790</td>\n",
       "      <td>-74.249840</td>\n",
       "      <td>0.000000</td>\n",
       "      <td>2003.000000</td>\n",
       "      <td>50.000000</td>\n",
       "      <td>50.000000</td>\n",
       "      <td>-1223.000000</td>\n",
       "      <td>0.000000</td>\n",
       "      <td>0.010000</td>\n",
       "      <td>1.000000</td>\n",
       "      <td>1.000000</td>\n",
       "      <td>-10.000000</td>\n",
       "    </tr>\n",
       "    <tr>\n",
       "      <th>25%</th>\n",
       "      <td>1.508581e+07</td>\n",
       "      <td>2.458333e+10</td>\n",
       "      <td>40.688740</td>\n",
       "      <td>-73.982580</td>\n",
       "      <td>0.000000</td>\n",
       "      <td>2007.000000</td>\n",
       "      <td>340.000000</td>\n",
       "      <td>340.000000</td>\n",
       "      <td>2.000000</td>\n",
       "      <td>1.000000</td>\n",
       "      <td>0.220000</td>\n",
       "      <td>2.000000</td>\n",
       "      <td>1.000000</td>\n",
       "      <td>3.000000</td>\n",
       "    </tr>\n",
       "    <tr>\n",
       "      <th>50%</th>\n",
       "      <td>2.913660e+07</td>\n",
       "      <td>4.911774e+10</td>\n",
       "      <td>40.722290</td>\n",
       "      <td>-73.954440</td>\n",
       "      <td>0.000000</td>\n",
       "      <td>2012.000000</td>\n",
       "      <td>624.000000</td>\n",
       "      <td>624.000000</td>\n",
       "      <td>3.000000</td>\n",
       "      <td>7.000000</td>\n",
       "      <td>0.740000</td>\n",
       "      <td>3.000000</td>\n",
       "      <td>1.000000</td>\n",
       "      <td>96.000000</td>\n",
       "    </tr>\n",
       "    <tr>\n",
       "      <th>75%</th>\n",
       "      <td>4.320120e+07</td>\n",
       "      <td>7.399650e+10</td>\n",
       "      <td>40.762760</td>\n",
       "      <td>-73.932350</td>\n",
       "      <td>1.000000</td>\n",
       "      <td>2017.000000</td>\n",
       "      <td>913.000000</td>\n",
       "      <td>913.000000</td>\n",
       "      <td>5.000000</td>\n",
       "      <td>30.000000</td>\n",
       "      <td>2.000000</td>\n",
       "      <td>4.000000</td>\n",
       "      <td>2.000000</td>\n",
       "      <td>269.000000</td>\n",
       "    </tr>\n",
       "    <tr>\n",
       "      <th>max</th>\n",
       "      <td>5.736742e+07</td>\n",
       "      <td>9.876313e+10</td>\n",
       "      <td>40.916970</td>\n",
       "      <td>-73.705220</td>\n",
       "      <td>1.000000</td>\n",
       "      <td>2022.000000</td>\n",
       "      <td>1200.000000</td>\n",
       "      <td>1200.000000</td>\n",
       "      <td>5645.000000</td>\n",
       "      <td>1024.000000</td>\n",
       "      <td>90.000000</td>\n",
       "      <td>5.000000</td>\n",
       "      <td>332.000000</td>\n",
       "      <td>3677.000000</td>\n",
       "    </tr>\n",
       "  </tbody>\n",
       "</table>\n",
       "</div>"
      ],
      "text/plain": [
       "                 id       host id            lat           long  \\\n",
       "count  1.025990e+05  1.025990e+05  102591.000000  102591.000000   \n",
       "mean   2.914623e+07  4.925411e+10      40.728094     -73.949644   \n",
       "std    1.625751e+07  2.853900e+10       0.055857       0.049521   \n",
       "min    1.001254e+06  1.236005e+08      40.499790     -74.249840   \n",
       "25%    1.508581e+07  2.458333e+10      40.688740     -73.982580   \n",
       "50%    2.913660e+07  4.911774e+10      40.722290     -73.954440   \n",
       "75%    4.320120e+07  7.399650e+10      40.762760     -73.932350   \n",
       "max    5.736742e+07  9.876313e+10      40.916970     -73.705220   \n",
       "\n",
       "       instant_bookable  Construction year          price    service fee  \\\n",
       "count     102494.000000      102385.000000  102352.000000  102352.000000   \n",
       "mean           0.497785        2012.487464     625.293536     625.293536   \n",
       "std            0.499998           5.765556     331.671614     331.671614   \n",
       "min            0.000000        2003.000000      50.000000      50.000000   \n",
       "25%            0.000000        2007.000000     340.000000     340.000000   \n",
       "50%            0.000000        2012.000000     624.000000     624.000000   \n",
       "75%            1.000000        2017.000000     913.000000     913.000000   \n",
       "max            1.000000        2022.000000    1200.000000    1200.000000   \n",
       "\n",
       "       minimum nights  number of reviews  reviews per month  \\\n",
       "count   102190.000000      102416.000000       86720.000000   \n",
       "mean         8.135845          27.483743           1.374022   \n",
       "std         30.553781          49.508954           1.746621   \n",
       "min      -1223.000000           0.000000           0.010000   \n",
       "25%          2.000000           1.000000           0.220000   \n",
       "50%          3.000000           7.000000           0.740000   \n",
       "75%          5.000000          30.000000           2.000000   \n",
       "max       5645.000000        1024.000000          90.000000   \n",
       "\n",
       "       review rate number  calculated host listings count  availability 365  \n",
       "count       102273.000000                   102280.000000     102151.000000  \n",
       "mean             3.279106                        7.936605        141.133254  \n",
       "std              1.284657                       32.218780        135.435024  \n",
       "min              1.000000                        1.000000        -10.000000  \n",
       "25%              2.000000                        1.000000          3.000000  \n",
       "50%              3.000000                        1.000000         96.000000  \n",
       "75%              4.000000                        2.000000        269.000000  \n",
       "max              5.000000                      332.000000       3677.000000  "
      ]
     },
     "execution_count": 7,
     "metadata": {},
     "output_type": "execute_result"
    }
   ],
   "source": [
    "abnb.describe()"
   ]
  },
  {
   "cell_type": "markdown",
   "id": "09dd9aa6-65ae-468e-a7fe-92d38d24c988",
   "metadata": {},
   "source": [
    "# Data Cleaning "
   ]
  },
  {
   "cell_type": "markdown",
   "id": "5e02f5a4-5079-4e2a-95f0-7293ea9e7f3d",
   "metadata": {},
   "source": [
    "# Dropping unneccessary columns"
   ]
  },
  {
   "cell_type": "code",
   "execution_count": 8,
   "id": "b82b2e3c-93cd-40ad-a649-a793ef31170b",
   "metadata": {},
   "outputs": [],
   "source": [
    "abnb.drop(['host_identity_verified','house_rules', 'license'],axis='columns',inplace=True)"
   ]
  },
  {
   "cell_type": "markdown",
   "id": "ce9d166c-eea0-449c-9c82-89b158785b6d",
   "metadata": {},
   "source": [
    "# Checking number of null values"
   ]
  },
  {
   "cell_type": "code",
   "execution_count": 9,
   "id": "7c45267a-7f39-4e4c-a692-4d0899f8baeb",
   "metadata": {},
   "outputs": [
    {
     "data": {
      "text/plain": [
       "id                                    0\n",
       "NAME                                274\n",
       "host id                               0\n",
       "host name                           408\n",
       "neighbourhood group                  29\n",
       "neighbourhood                        16\n",
       "lat                                   8\n",
       "long                                  8\n",
       "country                             532\n",
       "country code                        131\n",
       "instant_bookable                    105\n",
       "cancellation_policy                  76\n",
       "room type                             0\n",
       "Construction year                   214\n",
       "price                               247\n",
       "service fee                         247\n",
       "minimum nights                      409\n",
       "number of reviews                   183\n",
       "reviews per month                 15879\n",
       "review rate number                  326\n",
       "calculated host listings count      319\n",
       "availability 365                    448\n",
       "dtype: int64"
      ]
     },
     "execution_count": 9,
     "metadata": {},
     "output_type": "execute_result"
    }
   ],
   "source": [
    "abnb.isnull().sum()"
   ]
  },
  {
   "cell_type": "markdown",
   "id": "6ce0e86a-6473-43f0-b420-e2eefa8847cb",
   "metadata": {},
   "source": [
    "# Checking number of duplicates"
   ]
  },
  {
   "cell_type": "code",
   "execution_count": 10,
   "id": "5b93d5cc-303f-40e2-b5ee-062c4f2e8e12",
   "metadata": {},
   "outputs": [
    {
     "data": {
      "text/plain": [
       "541"
      ]
     },
     "execution_count": 10,
     "metadata": {},
     "output_type": "execute_result"
    }
   ],
   "source": [
    "abnb.duplicated().sum()"
   ]
  },
  {
   "cell_type": "markdown",
   "id": "d1fc0d03-335f-4fb7-8ac4-59b8d74fcd24",
   "metadata": {},
   "source": [
    "# Dropping duplicates"
   ]
  },
  {
   "cell_type": "code",
   "execution_count": 11,
   "id": "4bcb2019-243d-4e73-adc8-a71faba74e9c",
   "metadata": {},
   "outputs": [],
   "source": [
    "abnb.drop_duplicates(inplace=True)"
   ]
  },
  {
   "cell_type": "code",
   "execution_count": 12,
   "id": "9f2aa194-46b8-4bda-9b7d-2760be5e896d",
   "metadata": {},
   "outputs": [
    {
     "data": {
      "text/plain": [
       "0"
      ]
     },
     "execution_count": 12,
     "metadata": {},
     "output_type": "execute_result"
    }
   ],
   "source": [
    "abnb.duplicated().sum()"
   ]
  },
  {
   "cell_type": "markdown",
   "id": "01b80506-2356-4cd3-80e4-6bfff4985ced",
   "metadata": {},
   "source": [
    "# Changing all brookln,manhatan values to Brooklyn and Manhattan in neighbourhood group column"
   ]
  },
  {
   "cell_type": "code",
   "execution_count": 13,
   "id": "7099d9b7-c0db-45c0-9ae6-01ff5aa140aa",
   "metadata": {},
   "outputs": [],
   "source": [
    "abnb['neighbourhood group'] = abnb['neighbourhood group'].str.replace('manhatan', 'Manhattan')"
   ]
  },
  {
   "cell_type": "code",
   "execution_count": 14,
   "id": "5c50c61f-559c-46ed-a9f2-60bfc4199f13",
   "metadata": {},
   "outputs": [],
   "source": [
    "abnb['neighbourhood group'] = abnb['neighbourhood group'].str.replace('brookln', 'Brooklyn')"
   ]
  },
  {
   "cell_type": "code",
   "execution_count": 15,
   "id": "b2f0c7af-5200-414e-b1ee-13b6c64fecfe",
   "metadata": {},
   "outputs": [
    {
     "data": {
      "text/plain": [
       "id                                  int64\n",
       "NAME                               object\n",
       "host id                             int64\n",
       "host name                          object\n",
       "neighbourhood group                object\n",
       "neighbourhood                      object\n",
       "lat                               float64\n",
       "long                              float64\n",
       "country                            object\n",
       "country code                       object\n",
       "instant_bookable                  float64\n",
       "cancellation_policy                object\n",
       "room type                          object\n",
       "Construction year                 float64\n",
       "price                             float64\n",
       "service fee                       float64\n",
       "minimum nights                    float64\n",
       "number of reviews                 float64\n",
       "reviews per month                 float64\n",
       "review rate number                float64\n",
       "calculated host listings count    float64\n",
       "availability 365                  float64\n",
       "dtype: object"
      ]
     },
     "execution_count": 15,
     "metadata": {},
     "output_type": "execute_result"
    }
   ],
   "source": [
    "abnb.dtypes"
   ]
  },
  {
   "cell_type": "markdown",
   "id": "cc584bad-17b6-4015-8950-c8b2f8edb7d6",
   "metadata": {},
   "source": [
    "# checking number of null in price and service fee columns "
   ]
  },
  {
   "cell_type": "code",
   "execution_count": 16,
   "id": "cf1d50a4-0fcd-4573-a83c-b1eeb5bb5d9e",
   "metadata": {},
   "outputs": [
    {
     "data": {
      "text/plain": [
       "247"
      ]
     },
     "execution_count": 16,
     "metadata": {},
     "output_type": "execute_result"
    }
   ],
   "source": [
    "abnb['price'].isnull().sum()"
   ]
  },
  {
   "cell_type": "code",
   "execution_count": 17,
   "id": "db2e4373-48fe-4db8-8a86-b52aa72932d8",
   "metadata": {},
   "outputs": [
    {
     "data": {
      "text/plain": [
       "247"
      ]
     },
     "execution_count": 17,
     "metadata": {},
     "output_type": "execute_result"
    }
   ],
   "source": [
    "abnb['service fee'].isnull().sum()"
   ]
  },
  {
   "cell_type": "markdown",
   "id": "0ae5b018-3545-4e17-bb40-d535a0797e19",
   "metadata": {},
   "source": [
    "# dropping nulls in price and service fee columns"
   ]
  },
  {
   "cell_type": "code",
   "execution_count": 18,
   "id": "f0558e4a-9101-4cec-9456-10183181cbb8",
   "metadata": {},
   "outputs": [],
   "source": [
    "abnb.dropna(subset=['price','service fee','calculated host listings count','neighbourhood group'], inplace=True)\n"
   ]
  },
  {
   "cell_type": "code",
   "execution_count": 19,
   "id": "706aca16-ac69-4910-a6a4-593618af6e48",
   "metadata": {},
   "outputs": [
    {
     "data": {
      "text/plain": [
       "id                                    0\n",
       "NAME                                268\n",
       "host id                               0\n",
       "host name                           400\n",
       "neighbourhood group                   0\n",
       "neighbourhood                        15\n",
       "lat                                   8\n",
       "long                                  8\n",
       "country                             526\n",
       "country code                        125\n",
       "instant_bookable                     99\n",
       "cancellation_policy                  70\n",
       "room type                             0\n",
       "Construction year                   202\n",
       "price                                 0\n",
       "service fee                           0\n",
       "minimum nights                      399\n",
       "number of reviews                   183\n",
       "reviews per month                 15731\n",
       "review rate number                  249\n",
       "calculated host listings count        0\n",
       "availability 365                    437\n",
       "dtype: int64"
      ]
     },
     "execution_count": 19,
     "metadata": {},
     "output_type": "execute_result"
    }
   ],
   "source": [
    "abnb.isnull().sum()"
   ]
  },
  {
   "cell_type": "code",
   "execution_count": 20,
   "id": "3b3450db-a7cd-4f2e-b4ea-5125230b741e",
   "metadata": {},
   "outputs": [
    {
     "data": {
      "text/plain": [
       "1200.0"
      ]
     },
     "execution_count": 20,
     "metadata": {},
     "output_type": "execute_result"
    }
   ],
   "source": [
    "abnb['price'].max()"
   ]
  },
  {
   "cell_type": "markdown",
   "id": "9ab3d0d6-dfbf-4d67-aa33-19f65224aa9d",
   "metadata": {},
   "source": [
    "# Identifying outliers in price"
   ]
  },
  {
   "cell_type": "code",
   "execution_count": 21,
   "id": "a038ef1d-f448-4b1e-a9db-04c2411bfd83",
   "metadata": {},
   "outputs": [
    {
     "data": {
      "image/png": "[encoded data removed]",
      "text/plain": [
       "<Figure size 640x480 with 1 Axes>"
      ]
     },
     "metadata": {},
     "output_type": "display_data"
    }
   ],
   "source": [
    "sns.boxplot(data=abnb,x='price')\n",
    "plt.savefig(\"boxplot.jpg\")"
   ]
  },
  {
   "cell_type": "markdown",
   "id": "5373014f-5bea-46f6-ad63-32ff9deeb113",
   "metadata": {},
   "source": [
    "# Based on the boxplot, we can say that the range of prices reaches as far as _1200 USD_, whereas most prices are between *300-900 USD*"
   ]
  },
  {
   "cell_type": "code",
   "execution_count": 22,
   "id": "cd824e5d-b1a9-40ce-8da6-a67683fddf4b",
   "metadata": {},
   "outputs": [
    {
     "data": {
      "image/png": "[encoded data removed]",
      "text/plain": [
       "<Figure size 800x500 with 1 Axes>"
      ]
     },
     "metadata": {},
     "output_type": "display_data"
    }
   ],
   "source": [
    "\n",
    "plt.figure(figsize=(8,5))\n",
    "sns.histplot(data=abnb,x='price',bins=60)\n",
    "plt.ylabel('Frequency')\n",
    "plt.savefig(\"histplot.jpg\")"
   ]
  },
  {
   "cell_type": "markdown",
   "id": "c8fc8e6c-c9a7-4f5b-9c96-0641fe21a822",
   "metadata": {},
   "source": [
    "# The histogram shows that the highest amount of prices accumulates between 400 and 700 USD. This is where frequency is the highest. Also, it confirms the reading from the boxplot (high frequency between 300-800)"
   ]
  },
  {
   "cell_type": "code",
   "execution_count": null,
   "id": "39f277c8-7231-4b68-8f56-d6404106e384",
   "metadata": {},
   "outputs": [],
   "source": []
  },
  {
   "cell_type": "markdown",
   "id": "d22a0348-9f16-4672-89d2-70a74d4b4025",
   "metadata": {},
   "source": [
    "# Maximum amount of listings grouped by neighbourhood "
   ]
  },
  {
   "cell_type": "code",
   "execution_count": 23,
   "id": "42cd7af0-d227-4383-93b0-f6dd6433293a",
   "metadata": {},
   "outputs": [],
   "source": [
    "host_areas=abnb.groupby(['host name','neighbourhood group'])['calculated host listings count'].max().reset_index()"
   ]
  },
  {
   "cell_type": "code",
   "execution_count": 24,
   "id": "2fc68f1f-e335-40d3-8aa2-7b21a339b165",
   "metadata": {},
   "outputs": [
    {
     "data": {
      "text/html": [
       "<div>\n",
       "<style scoped>\n",
       "    .dataframe tbody tr th:only-of-type {\n",
       "        vertical-align: middle;\n",
       "    }\n",
       "\n",
       "    .dataframe tbody tr th {\n",
       "        vertical-align: top;\n",
       "    }\n",
       "\n",
       "    .dataframe thead th {\n",
       "        text-align: right;\n",
       "    }\n",
       "</style>\n",
       "<table border=\"1\" class=\"dataframe\">\n",
       "  <thead>\n",
       "    <tr style=\"text-align: right;\">\n",
       "      <th></th>\n",
       "      <th>host name</th>\n",
       "      <th>neighbourhood group</th>\n",
       "      <th>calculated host listings count</th>\n",
       "    </tr>\n",
       "  </thead>\n",
       "  <tbody>\n",
       "    <tr>\n",
       "      <th>2115</th>\n",
       "      <td>Blueground</td>\n",
       "      <td>Manhattan</td>\n",
       "      <td>332.0</td>\n",
       "    </tr>\n",
       "    <tr>\n",
       "      <th>15301</th>\n",
       "      <td>Sonder (NYC)</td>\n",
       "      <td>Manhattan</td>\n",
       "      <td>327.0</td>\n",
       "    </tr>\n",
       "    <tr>\n",
       "      <th>2114</th>\n",
       "      <td>Blueground</td>\n",
       "      <td>Brooklyn</td>\n",
       "      <td>232.0</td>\n",
       "    </tr>\n",
       "    <tr>\n",
       "      <th>4977</th>\n",
       "      <td>Eugene</td>\n",
       "      <td>Brooklyn</td>\n",
       "      <td>218.0</td>\n",
       "    </tr>\n",
       "    <tr>\n",
       "      <th>4979</th>\n",
       "      <td>Eugene</td>\n",
       "      <td>Queens</td>\n",
       "      <td>218.0</td>\n",
       "    </tr>\n",
       "  </tbody>\n",
       "</table>\n",
       "</div>"
      ],
      "text/plain": [
       "          host name neighbourhood group  calculated host listings count\n",
       "2115     Blueground           Manhattan                           332.0\n",
       "15301  Sonder (NYC)           Manhattan                           327.0\n",
       "2114     Blueground            Brooklyn                           232.0\n",
       "4977         Eugene            Brooklyn                           218.0\n",
       "4979         Eugene              Queens                           218.0"
      ]
     },
     "execution_count": 24,
     "metadata": {},
     "output_type": "execute_result"
    }
   ],
   "source": [
    "host_areas.sort_values('calculated host listings count',ascending=False).head(5)"
   ]
  },
  {
   "cell_type": "markdown",
   "id": "227615bc-c0b3-40f0-b0ed-2b7e306df6e1",
   "metadata": {},
   "source": [
    "# Host name Blueground has listed the highest amount of listings (332) in Manhatan, followed by Sonder (327) also in Manhattan. "
   ]
  },
  {
   "cell_type": "code",
   "execution_count": null,
   "id": "b3138704-7362-4ad5-b4e1-ac5d98a3e1a7",
   "metadata": {},
   "outputs": [],
   "source": []
  },
  {
   "cell_type": "markdown",
   "id": "44688791-8fca-4d79-b83e-6f06398dffb0",
   "metadata": {},
   "source": [
    "# Dropping null values in neighbourhood group"
   ]
  },
  {
   "cell_type": "code",
   "execution_count": 25,
   "id": "90fc789f-58be-439f-a1e5-81d961c28076",
   "metadata": {},
   "outputs": [],
   "source": [
    "abnb.dropna(subset=['neighbourhood group'], inplace=True)\n"
   ]
  },
  {
   "cell_type": "code",
   "execution_count": null,
   "id": "13f5311d-c239-44f2-9ccf-03798fb59b0c",
   "metadata": {},
   "outputs": [],
   "source": []
  },
  {
   "cell_type": "code",
   "execution_count": 26,
   "id": "c57db7dd-d023-4d1e-b208-951e1f1d1bf9",
   "metadata": {},
   "outputs": [],
   "source": [
    "room_price_area_avg=abnb.groupby(['neighbourhood group','room type'])['price'].mean().reset_index()"
   ]
  },
  {
   "cell_type": "code",
   "execution_count": 27,
   "id": "c8d5a726-ec92-4ff2-baa7-ce1242534259",
   "metadata": {},
   "outputs": [
    {
     "data": {
      "text/html": [
       "<div>\n",
       "<style scoped>\n",
       "    .dataframe tbody tr th:only-of-type {\n",
       "        vertical-align: middle;\n",
       "    }\n",
       "\n",
       "    .dataframe tbody tr th {\n",
       "        vertical-align: top;\n",
       "    }\n",
       "\n",
       "    .dataframe thead th {\n",
       "        text-align: right;\n",
       "    }\n",
       "</style>\n",
       "<table border=\"1\" class=\"dataframe\">\n",
       "  <thead>\n",
       "    <tr style=\"text-align: right;\">\n",
       "      <th></th>\n",
       "      <th>neighbourhood group</th>\n",
       "      <th>room type</th>\n",
       "      <th>price</th>\n",
       "    </tr>\n",
       "  </thead>\n",
       "  <tbody>\n",
       "    <tr>\n",
       "      <th>17</th>\n",
       "      <td>Staten Island</td>\n",
       "      <td>Shared room</td>\n",
       "      <td>715.600000</td>\n",
       "    </tr>\n",
       "    <tr>\n",
       "      <th>4</th>\n",
       "      <td>Brooklyn</td>\n",
       "      <td>Hotel room</td>\n",
       "      <td>711.714286</td>\n",
       "    </tr>\n",
       "    <tr>\n",
       "      <th>8</th>\n",
       "      <td>Manhattan</td>\n",
       "      <td>Hotel room</td>\n",
       "      <td>681.870000</td>\n",
       "    </tr>\n",
       "    <tr>\n",
       "      <th>15</th>\n",
       "      <td>Staten Island</td>\n",
       "      <td>Entire home/apt</td>\n",
       "      <td>642.341102</td>\n",
       "    </tr>\n",
       "    <tr>\n",
       "      <th>14</th>\n",
       "      <td>Queens</td>\n",
       "      <td>Shared room</td>\n",
       "      <td>642.061798</td>\n",
       "    </tr>\n",
       "    <tr>\n",
       "      <th>1</th>\n",
       "      <td>Bronx</td>\n",
       "      <td>Private room</td>\n",
       "      <td>634.666667</td>\n",
       "    </tr>\n",
       "    <tr>\n",
       "      <th>13</th>\n",
       "      <td>Queens</td>\n",
       "      <td>Private room</td>\n",
       "      <td>631.993095</td>\n",
       "    </tr>\n",
       "    <tr>\n",
       "      <th>6</th>\n",
       "      <td>Brooklyn</td>\n",
       "      <td>Shared room</td>\n",
       "      <td>631.960494</td>\n",
       "    </tr>\n",
       "    <tr>\n",
       "      <th>10</th>\n",
       "      <td>Manhattan</td>\n",
       "      <td>Shared room</td>\n",
       "      <td>631.623874</td>\n",
       "    </tr>\n",
       "    <tr>\n",
       "      <th>11</th>\n",
       "      <td>Queens</td>\n",
       "      <td>Entire home/apt</td>\n",
       "      <td>627.120659</td>\n",
       "    </tr>\n",
       "  </tbody>\n",
       "</table>\n",
       "</div>"
      ],
      "text/plain": [
       "   neighbourhood group        room type       price\n",
       "17       Staten Island      Shared room  715.600000\n",
       "4             Brooklyn       Hotel room  711.714286\n",
       "8            Manhattan       Hotel room  681.870000\n",
       "15       Staten Island  Entire home/apt  642.341102\n",
       "14              Queens      Shared room  642.061798\n",
       "1                Bronx     Private room  634.666667\n",
       "13              Queens     Private room  631.993095\n",
       "6             Brooklyn      Shared room  631.960494\n",
       "10           Manhattan      Shared room  631.623874\n",
       "11              Queens  Entire home/apt  627.120659"
      ]
     },
     "execution_count": 27,
     "metadata": {},
     "output_type": "execute_result"
    }
   ],
   "source": [
    "room_price_area_avg.sort_values('price',ascending=False).head(10)"
   ]
  },
  {
   "cell_type": "markdown",
   "id": "cbec23c2-a4ee-499a-a697-2f53c92f832b",
   "metadata": {},
   "source": [
    "# The highest average prices are in Staten Island,whereas the lowest average prices are in Queens. "
   ]
  },
  {
   "cell_type": "code",
   "execution_count": 28,
   "id": "f6fa7734-75d3-4d0d-ab9c-340eb48ead8b",
   "metadata": {},
   "outputs": [
    {
     "data": {
      "image/png": "[encoded data removed]",
      "text/plain": [
       "<Figure size 640x480 with 1 Axes>"
      ]
     },
     "metadata": {},
     "output_type": "display_data"
    },
    {
     "data": {
      "text/plain": [
       "<Figure size 1500x1000 with 0 Axes>"
      ]
     },
     "metadata": {},
     "output_type": "display_data"
    }
   ],
   "source": [
    "sns.barplot(data=abnb,x='neighbourhood group',y='price', hue='room type')\n",
    "plt.legend(loc='upper right',fontsize=7)\n",
    "fig=plt.figure(figsize=(15,10))\n",
    "plt.savefig(\"barplot.png\", dpi=300, bbox_inches='tight')"
   ]
  },
  {
   "cell_type": "markdown",
   "id": "9c5aac99-859a-4e04-a175-3a7187e5969c",
   "metadata": {},
   "source": [
    "# Shared rooms and hotel rooms are the most expensive room types.Higher price can be found in Manhattan, Brooklyn ans Staten island, whereas Queens and Bronx neighbourhoods are much cheaper. "
   ]
  },
  {
   "cell_type": "markdown",
   "id": "e642e5aa-0076-4409-8378-140f9feb139e",
   "metadata": {},
   "source": [
    "# Number of reviews in relation to neighbourhood group"
   ]
  },
  {
   "cell_type": "code",
   "execution_count": 29,
   "id": "f807db2e-7d49-47eb-9e51-a494683c7d92",
   "metadata": {},
   "outputs": [],
   "source": [
    "area_reviews=abnb.groupby(['neighbourhood group'])['number of reviews'].max().reset_index()"
   ]
  },
  {
   "cell_type": "code",
   "execution_count": 30,
   "id": "8f91d8b3-36c4-491e-9fcd-af7f10c2a381",
   "metadata": {},
   "outputs": [
    {
     "data": {
      "text/html": [
       "<div>\n",
       "<style scoped>\n",
       "    .dataframe tbody tr th:only-of-type {\n",
       "        vertical-align: middle;\n",
       "    }\n",
       "\n",
       "    .dataframe tbody tr th {\n",
       "        vertical-align: top;\n",
       "    }\n",
       "\n",
       "    .dataframe thead th {\n",
       "        text-align: right;\n",
       "    }\n",
       "</style>\n",
       "<table border=\"1\" class=\"dataframe\">\n",
       "  <thead>\n",
       "    <tr style=\"text-align: right;\">\n",
       "      <th></th>\n",
       "      <th>neighbourhood group</th>\n",
       "      <th>number of reviews</th>\n",
       "    </tr>\n",
       "  </thead>\n",
       "  <tbody>\n",
       "    <tr>\n",
       "      <th>0</th>\n",
       "      <td>Bronx</td>\n",
       "      <td>450.0</td>\n",
       "    </tr>\n",
       "    <tr>\n",
       "      <th>1</th>\n",
       "      <td>Brooklyn</td>\n",
       "      <td>679.0</td>\n",
       "    </tr>\n",
       "    <tr>\n",
       "      <th>2</th>\n",
       "      <td>Manhattan</td>\n",
       "      <td>1024.0</td>\n",
       "    </tr>\n",
       "    <tr>\n",
       "      <th>3</th>\n",
       "      <td>Queens</td>\n",
       "      <td>698.0</td>\n",
       "    </tr>\n",
       "    <tr>\n",
       "      <th>4</th>\n",
       "      <td>Staten Island</td>\n",
       "      <td>387.0</td>\n",
       "    </tr>\n",
       "  </tbody>\n",
       "</table>\n",
       "</div>"
      ],
      "text/plain": [
       "  neighbourhood group  number of reviews\n",
       "0               Bronx              450.0\n",
       "1            Brooklyn              679.0\n",
       "2           Manhattan             1024.0\n",
       "3              Queens              698.0\n",
       "4       Staten Island              387.0"
      ]
     },
     "execution_count": 30,
     "metadata": {},
     "output_type": "execute_result"
    }
   ],
   "source": [
    "area_reviews"
   ]
  },
  {
   "cell_type": "code",
   "execution_count": 31,
   "id": "95064e68-a821-4028-a3cf-96bb19ec5624",
   "metadata": {},
   "outputs": [
    {
     "data": {
      "image/png": "[encoded data removed]",
      "text/plain": [
       "<Figure size 1000x500 with 1 Axes>"
      ]
     },
     "metadata": {},
     "output_type": "display_data"
    },
    {
     "data": {
      "text/plain": [
       "<Figure size 640x480 with 0 Axes>"
      ]
     },
     "metadata": {},
     "output_type": "display_data"
    }
   ],
   "source": [
    "area=area_reviews['neighbourhood group']\n",
    "review=area_reviews['number of reviews']\n",
    "fig=plt.figure(figsize=(10,5))\n",
    "\n",
    "plt.bar(area,review,color='blue',width=0.5)\n",
    "plt.xlabel('Area')\n",
    "plt.ylabel('Reviews')\n",
    "plt.title('Number of reviews per area')\n",
    "plt.show()\n",
    "plt.savefig(\"rev.png\")"
   ]
  },
  {
   "cell_type": "markdown",
   "id": "5c5c008b-b00a-48f9-acd4-f03d5d4414e2",
   "metadata": {},
   "source": [
    "# Manhattan received the highest number of reviews, while Staten Island received the lowest."
   ]
  },
  {
   "cell_type": "code",
   "execution_count": null,
   "id": "5ca2d495-d08b-4c0e-a8b2-a8e6eba6e5a9",
   "metadata": {},
   "outputs": [],
   "source": []
  },
  {
   "cell_type": "markdown",
   "id": "c3d9b215-5821-4b68-ada8-1ad951c72051",
   "metadata": {},
   "source": [
    "# Price in relation to number of reviews"
   ]
  },
  {
   "cell_type": "code",
   "execution_count": 32,
   "id": "dec3045c-fa87-4d56-a67f-8f9380bb9430",
   "metadata": {},
   "outputs": [],
   "source": [
    "price_area=abnb.groupby(['price'])['number of reviews'].max().reset_index()"
   ]
  },
  {
   "cell_type": "code",
   "execution_count": 33,
   "id": "aec497b1-29fe-4a97-9fba-7b99362cad85",
   "metadata": {},
   "outputs": [
    {
     "data": {
      "text/html": [
       "<div>\n",
       "<style scoped>\n",
       "    .dataframe tbody tr th:only-of-type {\n",
       "        vertical-align: middle;\n",
       "    }\n",
       "\n",
       "    .dataframe tbody tr th {\n",
       "        vertical-align: top;\n",
       "    }\n",
       "\n",
       "    .dataframe thead th {\n",
       "        text-align: right;\n",
       "    }\n",
       "</style>\n",
       "<table border=\"1\" class=\"dataframe\">\n",
       "  <thead>\n",
       "    <tr style=\"text-align: right;\">\n",
       "      <th></th>\n",
       "      <th>price</th>\n",
       "      <th>number of reviews</th>\n",
       "    </tr>\n",
       "  </thead>\n",
       "  <tbody>\n",
       "    <tr>\n",
       "      <th>0</th>\n",
       "      <td>50.0</td>\n",
       "      <td>229.0</td>\n",
       "    </tr>\n",
       "    <tr>\n",
       "      <th>1</th>\n",
       "      <td>51.0</td>\n",
       "      <td>318.0</td>\n",
       "    </tr>\n",
       "    <tr>\n",
       "      <th>2</th>\n",
       "      <td>52.0</td>\n",
       "      <td>96.0</td>\n",
       "    </tr>\n",
       "    <tr>\n",
       "      <th>3</th>\n",
       "      <td>53.0</td>\n",
       "      <td>251.0</td>\n",
       "    </tr>\n",
       "    <tr>\n",
       "      <th>4</th>\n",
       "      <td>54.0</td>\n",
       "      <td>563.0</td>\n",
       "    </tr>\n",
       "    <tr>\n",
       "      <th>5</th>\n",
       "      <td>55.0</td>\n",
       "      <td>255.0</td>\n",
       "    </tr>\n",
       "    <tr>\n",
       "      <th>6</th>\n",
       "      <td>56.0</td>\n",
       "      <td>240.0</td>\n",
       "    </tr>\n",
       "    <tr>\n",
       "      <th>7</th>\n",
       "      <td>57.0</td>\n",
       "      <td>260.0</td>\n",
       "    </tr>\n",
       "    <tr>\n",
       "      <th>8</th>\n",
       "      <td>58.0</td>\n",
       "      <td>241.0</td>\n",
       "    </tr>\n",
       "    <tr>\n",
       "      <th>9</th>\n",
       "      <td>59.0</td>\n",
       "      <td>160.0</td>\n",
       "    </tr>\n",
       "  </tbody>\n",
       "</table>\n",
       "</div>"
      ],
      "text/plain": [
       "   price  number of reviews\n",
       "0   50.0              229.0\n",
       "1   51.0              318.0\n",
       "2   52.0               96.0\n",
       "3   53.0              251.0\n",
       "4   54.0              563.0\n",
       "5   55.0              255.0\n",
       "6   56.0              240.0\n",
       "7   57.0              260.0\n",
       "8   58.0              241.0\n",
       "9   59.0              160.0"
      ]
     },
     "execution_count": 33,
     "metadata": {},
     "output_type": "execute_result"
    }
   ],
   "source": [
    "price_area.head(10)"
   ]
  },
  {
   "cell_type": "code",
   "execution_count": 34,
   "id": "b8768df7-1798-4488-9aba-f3ba547b5e73",
   "metadata": {},
   "outputs": [
    {
     "data": {
      "text/plain": [
       "<Figure size 1500x1000 with 0 Axes>"
      ]
     },
     "metadata": {},
     "output_type": "display_data"
    }
   ],
   "source": [
    "price_list=price_area['price']\n",
    "review=price_area['number of reviews']\n",
    "fig=plt.figure(figsize=(15,10))"
   ]
  },
  {
   "cell_type": "code",
   "execution_count": 35,
   "id": "73af8180-a781-45e5-b349-61df418f0c0e",
   "metadata": {},
   "outputs": [
    {
     "data": {
      "image/png": "[encoded data removed]",
      "text/plain": [
       "<Figure size 640x480 with 1 Axes>"
      ]
     },
     "metadata": {},
     "output_type": "display_data"
    }
   ],
   "source": [
    "plt.scatter(price_list,review)\n",
    "plt.xlabel('price')\n",
    "plt.ylabel('number of reviews')\n",
    "plt.title('Number of reviews vs price')\n",
    "plt.savefig(\"revscpl.png\")"
   ]
  },
  {
   "cell_type": "markdown",
   "id": "47308b3a-4703-401c-b9b4-a8821fb54b04",
   "metadata": {},
   "source": [
    "# I believe we could say that in general, if the prices are lower they tend to receive a sligtly higher amount of reviews. However there are some cases where the price is higher, but those listings still receive a substantial amount of reviews as well."
   ]
  },
  {
   "cell_type": "code",
   "execution_count": null,
   "id": "eac652e1-9886-4d11-9087-b0d48821456c",
   "metadata": {},
   "outputs": [],
   "source": []
  },
  {
   "cell_type": "markdown",
   "id": "20d5cde4-c1eb-4f0a-9dbc-09e21bc97e61",
   "metadata": {},
   "source": [
    "# Busiest hosts "
   ]
  },
  {
   "cell_type": "code",
   "execution_count": 36,
   "id": "a170aca8-db85-4b38-8820-938c595e9ef4",
   "metadata": {},
   "outputs": [],
   "source": [
    "most_occupied_hosts=abnb.groupby(['host id','host name','room type'])['number of reviews'].max().reset_index()"
   ]
  },
  {
   "cell_type": "code",
   "execution_count": 37,
   "id": "398b6a83-204f-4b62-809a-5c18945ea047",
   "metadata": {},
   "outputs": [],
   "source": [
    "most_occupied_hosts=most_occupied_hosts.sort_values(by='number of reviews',ascending=False).head(10)"
   ]
  },
  {
   "cell_type": "code",
   "execution_count": 38,
   "id": "38acf370-ea08-4873-8484-9bf246fde4a0",
   "metadata": {},
   "outputs": [
    {
     "data": {
      "text/html": [
       "<div>\n",
       "<style scoped>\n",
       "    .dataframe tbody tr th:only-of-type {\n",
       "        vertical-align: middle;\n",
       "    }\n",
       "\n",
       "    .dataframe tbody tr th {\n",
       "        vertical-align: top;\n",
       "    }\n",
       "\n",
       "    .dataframe thead th {\n",
       "        text-align: right;\n",
       "    }\n",
       "</style>\n",
       "<table border=\"1\" class=\"dataframe\">\n",
       "  <thead>\n",
       "    <tr style=\"text-align: right;\">\n",
       "      <th></th>\n",
       "      <th>host id</th>\n",
       "      <th>host name</th>\n",
       "      <th>room type</th>\n",
       "      <th>number of reviews</th>\n",
       "    </tr>\n",
       "  </thead>\n",
       "  <tbody>\n",
       "    <tr>\n",
       "      <th>55069</th>\n",
       "      <td>53558555483</td>\n",
       "      <td>Sonder (NYC)</td>\n",
       "      <td>Entire home/apt</td>\n",
       "      <td>1024.0</td>\n",
       "    </tr>\n",
       "    <tr>\n",
       "      <th>45439</th>\n",
       "      <td>44069230937</td>\n",
       "      <td>Arlo SoHo</td>\n",
       "      <td>Hotel room</td>\n",
       "      <td>1010.0</td>\n",
       "    </tr>\n",
       "    <tr>\n",
       "      <th>24502</th>\n",
       "      <td>23813117370</td>\n",
       "      <td>The Ridge</td>\n",
       "      <td>Private room</td>\n",
       "      <td>966.0</td>\n",
       "    </tr>\n",
       "    <tr>\n",
       "      <th>42262</th>\n",
       "      <td>41031720514</td>\n",
       "      <td>Row NYC</td>\n",
       "      <td>Hotel room</td>\n",
       "      <td>884.0</td>\n",
       "    </tr>\n",
       "    <tr>\n",
       "      <th>20628</th>\n",
       "      <td>20032806094</td>\n",
       "      <td>M</td>\n",
       "      <td>Private room</td>\n",
       "      <td>849.0</td>\n",
       "    </tr>\n",
       "    <tr>\n",
       "      <th>80462</th>\n",
       "      <td>78564178478</td>\n",
       "      <td>M</td>\n",
       "      <td>Private room</td>\n",
       "      <td>797.0</td>\n",
       "    </tr>\n",
       "    <tr>\n",
       "      <th>89423</th>\n",
       "      <td>87332142446</td>\n",
       "      <td>The Ridge</td>\n",
       "      <td>Private room</td>\n",
       "      <td>776.0</td>\n",
       "    </tr>\n",
       "    <tr>\n",
       "      <th>92343</th>\n",
       "      <td>90212124971</td>\n",
       "      <td>Arlo NoMad</td>\n",
       "      <td>Hotel room</td>\n",
       "      <td>738.0</td>\n",
       "    </tr>\n",
       "    <tr>\n",
       "      <th>13067</th>\n",
       "      <td>12571850348</td>\n",
       "      <td>Miss Dy</td>\n",
       "      <td>Entire home/apt</td>\n",
       "      <td>698.0</td>\n",
       "    </tr>\n",
       "    <tr>\n",
       "      <th>20473</th>\n",
       "      <td>19892961158</td>\n",
       "      <td>J. E</td>\n",
       "      <td>Private room</td>\n",
       "      <td>679.0</td>\n",
       "    </tr>\n",
       "  </tbody>\n",
       "</table>\n",
       "</div>"
      ],
      "text/plain": [
       "           host id     host name        room type  number of reviews\n",
       "55069  53558555483  Sonder (NYC)  Entire home/apt             1024.0\n",
       "45439  44069230937     Arlo SoHo       Hotel room             1010.0\n",
       "24502  23813117370     The Ridge     Private room              966.0\n",
       "42262  41031720514       Row NYC       Hotel room              884.0\n",
       "20628  20032806094             M     Private room              849.0\n",
       "80462  78564178478             M     Private room              797.0\n",
       "89423  87332142446     The Ridge     Private room              776.0\n",
       "92343  90212124971    Arlo NoMad       Hotel room              738.0\n",
       "13067  12571850348       Miss Dy  Entire home/apt              698.0\n",
       "20473  19892961158          J. E     Private room              679.0"
      ]
     },
     "execution_count": 38,
     "metadata": {},
     "output_type": "execute_result"
    }
   ],
   "source": [
    "most_occupied_hosts"
   ]
  },
  {
   "cell_type": "code",
   "execution_count": 39,
   "id": "5a4639c9-2230-4ac3-9e9e-fc1f2c42298e",
   "metadata": {},
   "outputs": [],
   "source": [
    "host_name=most_occupied_hosts['host name']"
   ]
  },
  {
   "cell_type": "code",
   "execution_count": 40,
   "id": "10d14bd3-99cf-4894-98f3-db4f925869fb",
   "metadata": {},
   "outputs": [],
   "source": [
    "review_received=most_occupied_hosts['number of reviews']"
   ]
  },
  {
   "cell_type": "code",
   "execution_count": 41,
   "id": "e7d3c389-1546-4be8-9135-c872e3c9b386",
   "metadata": {},
   "outputs": [
    {
     "data": {
      "text/plain": [
       "<Figure size 1500x2500 with 0 Axes>"
      ]
     },
     "metadata": {},
     "output_type": "display_data"
    }
   ],
   "source": [
    "fig=plt.figure(figsize=(15,25))"
   ]
  },
  {
   "cell_type": "code",
   "execution_count": 42,
   "id": "816f2e7a-cd07-49eb-ba3f-1e48322248ac",
   "metadata": {},
   "outputs": [
    {
     "data": {
      "image/png": "[encoded data removed]",
      "text/plain": [
       "<Figure size 640x480 with 1 Axes>"
      ]
     },
     "metadata": {},
     "output_type": "display_data"
    }
   ],
   "source": [
    "plt.barh(host_name,review_received,color='purple')\n",
    "plt.xlabel('Host Name')\n",
    "plt.ylabel('Review')\n",
    "plt.title('Number of reviews')\n",
    "plt.show()"
   ]
  },
  {
   "cell_type": "markdown",
   "id": "8098c899-4c11-4dc5-a07f-82bfa89972b2",
   "metadata": {},
   "source": [
    "# (Sonder) has received as many as 607 reviews."
   ]
  },
  {
   "cell_type": "code",
   "execution_count": null,
   "id": "8c5012e8-d452-40ca-9fde-7224ada41225",
   "metadata": {},
   "outputs": [],
   "source": []
  },
  {
   "cell_type": "markdown",
   "id": "3f6c0130-8e64-4676-892c-129b8c443b46",
   "metadata": {},
   "source": [
    "# Heat map and correlation between columns"
   ]
  },
  {
   "cell_type": "code",
   "execution_count": 43,
   "id": "2d8a6d5b-3a63-4af2-ac13-0aa5a5201eff",
   "metadata": {},
   "outputs": [
    {
     "data": {
      "text/plain": [
       "Index(['id', 'NAME', 'host id', 'host name', 'neighbourhood group',\n",
       "       'neighbourhood', 'lat', 'long', 'country', 'country code',\n",
       "       'instant_bookable', 'cancellation_policy', 'room type',\n",
       "       'Construction year', 'price', 'service fee', 'minimum nights',\n",
       "       'number of reviews', 'reviews per month', 'review rate number',\n",
       "       'calculated host listings count', 'availability 365'],\n",
       "      dtype='object')"
      ]
     },
     "execution_count": 43,
     "metadata": {},
     "output_type": "execute_result"
    }
   ],
   "source": [
    "abnb.columns"
   ]
  },
  {
   "cell_type": "code",
   "execution_count": 44,
   "id": "7b7496b9-4040-48d4-ae91-918a2284f609",
   "metadata": {},
   "outputs": [],
   "source": [
    "corr=abnb[['id','lat','long','price','minimum nights','number of reviews','reviews per month','review rate number','calculated host listings count','availability 365']].corr()"
   ]
  },
  {
   "cell_type": "code",
   "execution_count": 45,
   "id": "96cfa6e8-07b5-4803-b4a4-171b7908a78d",
   "metadata": {},
   "outputs": [
    {
     "data": {
      "text/html": [
       "<div>\n",
       "<style scoped>\n",
       "    .dataframe tbody tr th:only-of-type {\n",
       "        vertical-align: middle;\n",
       "    }\n",
       "\n",
       "    .dataframe tbody tr th {\n",
       "        vertical-align: top;\n",
       "    }\n",
       "\n",
       "    .dataframe thead th {\n",
       "        text-align: right;\n",
       "    }\n",
       "</style>\n",
       "<table border=\"1\" class=\"dataframe\">\n",
       "  <thead>\n",
       "    <tr style=\"text-align: right;\">\n",
       "      <th></th>\n",
       "      <th>id</th>\n",
       "      <th>lat</th>\n",
       "      <th>long</th>\n",
       "      <th>price</th>\n",
       "      <th>minimum nights</th>\n",
       "      <th>number of reviews</th>\n",
       "      <th>reviews per month</th>\n",
       "      <th>review rate number</th>\n",
       "      <th>calculated host listings count</th>\n",
       "      <th>availability 365</th>\n",
       "    </tr>\n",
       "  </thead>\n",
       "  <tbody>\n",
       "    <tr>\n",
       "      <th>id</th>\n",
       "      <td>1.000000</td>\n",
       "      <td>-0.008563</td>\n",
       "      <td>0.042732</td>\n",
       "      <td>0.006905</td>\n",
       "      <td>0.005400</td>\n",
       "      <td>-0.040959</td>\n",
       "      <td>0.038313</td>\n",
       "      <td>0.036935</td>\n",
       "      <td>0.023653</td>\n",
       "      <td>-0.138695</td>\n",
       "    </tr>\n",
       "    <tr>\n",
       "      <th>lat</th>\n",
       "      <td>-0.008563</td>\n",
       "      <td>1.000000</td>\n",
       "      <td>0.074191</td>\n",
       "      <td>-0.005273</td>\n",
       "      <td>0.015004</td>\n",
       "      <td>-0.025547</td>\n",
       "      <td>-0.019955</td>\n",
       "      <td>-0.003890</td>\n",
       "      <td>0.032400</td>\n",
       "      <td>-0.004740</td>\n",
       "    </tr>\n",
       "    <tr>\n",
       "      <th>long</th>\n",
       "      <td>0.042732</td>\n",
       "      <td>0.074191</td>\n",
       "      <td>1.000000</td>\n",
       "      <td>0.003347</td>\n",
       "      <td>-0.039500</td>\n",
       "      <td>0.069574</td>\n",
       "      <td>0.118938</td>\n",
       "      <td>0.015323</td>\n",
       "      <td>-0.104718</td>\n",
       "      <td>0.058422</td>\n",
       "    </tr>\n",
       "    <tr>\n",
       "      <th>price</th>\n",
       "      <td>0.006905</td>\n",
       "      <td>-0.005273</td>\n",
       "      <td>0.003347</td>\n",
       "      <td>1.000000</td>\n",
       "      <td>-0.003329</td>\n",
       "      <td>0.004970</td>\n",
       "      <td>0.003845</td>\n",
       "      <td>-0.005010</td>\n",
       "      <td>-0.000094</td>\n",
       "      <td>-0.003102</td>\n",
       "    </tr>\n",
       "    <tr>\n",
       "      <th>minimum nights</th>\n",
       "      <td>0.005400</td>\n",
       "      <td>0.015004</td>\n",
       "      <td>-0.039500</td>\n",
       "      <td>-0.003329</td>\n",
       "      <td>1.000000</td>\n",
       "      <td>-0.049926</td>\n",
       "      <td>-0.095443</td>\n",
       "      <td>-0.002504</td>\n",
       "      <td>0.084106</td>\n",
       "      <td>0.063147</td>\n",
       "    </tr>\n",
       "    <tr>\n",
       "      <th>number of reviews</th>\n",
       "      <td>-0.040959</td>\n",
       "      <td>-0.025547</td>\n",
       "      <td>0.069574</td>\n",
       "      <td>0.004970</td>\n",
       "      <td>-0.049926</td>\n",
       "      <td>1.000000</td>\n",
       "      <td>0.591259</td>\n",
       "      <td>-0.017883</td>\n",
       "      <td>-0.080652</td>\n",
       "      <td>0.099989</td>\n",
       "    </tr>\n",
       "    <tr>\n",
       "      <th>reviews per month</th>\n",
       "      <td>0.038313</td>\n",
       "      <td>-0.019955</td>\n",
       "      <td>0.118938</td>\n",
       "      <td>0.003845</td>\n",
       "      <td>-0.095443</td>\n",
       "      <td>0.591259</td>\n",
       "      <td>1.000000</td>\n",
       "      <td>0.038249</td>\n",
       "      <td>-0.025026</td>\n",
       "      <td>0.078358</td>\n",
       "    </tr>\n",
       "    <tr>\n",
       "      <th>review rate number</th>\n",
       "      <td>0.036935</td>\n",
       "      <td>-0.003890</td>\n",
       "      <td>0.015323</td>\n",
       "      <td>-0.005010</td>\n",
       "      <td>-0.002504</td>\n",
       "      <td>-0.017883</td>\n",
       "      <td>0.038249</td>\n",
       "      <td>1.000000</td>\n",
       "      <td>0.024155</td>\n",
       "      <td>-0.006396</td>\n",
       "    </tr>\n",
       "    <tr>\n",
       "      <th>calculated host listings count</th>\n",
       "      <td>0.023653</td>\n",
       "      <td>0.032400</td>\n",
       "      <td>-0.104718</td>\n",
       "      <td>-0.000094</td>\n",
       "      <td>0.084106</td>\n",
       "      <td>-0.080652</td>\n",
       "      <td>-0.025026</td>\n",
       "      <td>0.024155</td>\n",
       "      <td>1.000000</td>\n",
       "      <td>0.159341</td>\n",
       "    </tr>\n",
       "    <tr>\n",
       "      <th>availability 365</th>\n",
       "      <td>-0.138695</td>\n",
       "      <td>-0.004740</td>\n",
       "      <td>0.058422</td>\n",
       "      <td>-0.003102</td>\n",
       "      <td>0.063147</td>\n",
       "      <td>0.099989</td>\n",
       "      <td>0.078358</td>\n",
       "      <td>-0.006396</td>\n",
       "      <td>0.159341</td>\n",
       "      <td>1.000000</td>\n",
       "    </tr>\n",
       "  </tbody>\n",
       "</table>\n",
       "</div>"
      ],
      "text/plain": [
       "                                      id       lat      long     price  \\\n",
       "id                              1.000000 -0.008563  0.042732  0.006905   \n",
       "lat                            -0.008563  1.000000  0.074191 -0.005273   \n",
       "long                            0.042732  0.074191  1.000000  0.003347   \n",
       "price                           0.006905 -0.005273  0.003347  1.000000   \n",
       "minimum nights                  0.005400  0.015004 -0.039500 -0.003329   \n",
       "number of reviews              -0.040959 -0.025547  0.069574  0.004970   \n",
       "reviews per month               0.038313 -0.019955  0.118938  0.003845   \n",
       "review rate number              0.036935 -0.003890  0.015323 -0.005010   \n",
       "calculated host listings count  0.023653  0.032400 -0.104718 -0.000094   \n",
       "availability 365               -0.138695 -0.004740  0.058422 -0.003102   \n",
       "\n",
       "                                minimum nights  number of reviews  \\\n",
       "id                                    0.005400          -0.040959   \n",
       "lat                                   0.015004          -0.025547   \n",
       "long                                 -0.039500           0.069574   \n",
       "price                                -0.003329           0.004970   \n",
       "minimum nights                        1.000000          -0.049926   \n",
       "number of reviews                    -0.049926           1.000000   \n",
       "reviews per month                    -0.095443           0.591259   \n",
       "review rate number                   -0.002504          -0.017883   \n",
       "calculated host listings count        0.084106          -0.080652   \n",
       "availability 365                      0.063147           0.099989   \n",
       "\n",
       "                                reviews per month  review rate number  \\\n",
       "id                                       0.038313            0.036935   \n",
       "lat                                     -0.019955           -0.003890   \n",
       "long                                     0.118938            0.015323   \n",
       "price                                    0.003845           -0.005010   \n",
       "minimum nights                          -0.095443           -0.002504   \n",
       "number of reviews                        0.591259           -0.017883   \n",
       "reviews per month                        1.000000            0.038249   \n",
       "review rate number                       0.038249            1.000000   \n",
       "calculated host listings count          -0.025026            0.024155   \n",
       "availability 365                         0.078358           -0.006396   \n",
       "\n",
       "                                calculated host listings count  \\\n",
       "id                                                    0.023653   \n",
       "lat                                                   0.032400   \n",
       "long                                                 -0.104718   \n",
       "price                                                -0.000094   \n",
       "minimum nights                                        0.084106   \n",
       "number of reviews                                    -0.080652   \n",
       "reviews per month                                    -0.025026   \n",
       "review rate number                                    0.024155   \n",
       "calculated host listings count                        1.000000   \n",
       "availability 365                                      0.159341   \n",
       "\n",
       "                                availability 365  \n",
       "id                                     -0.138695  \n",
       "lat                                    -0.004740  \n",
       "long                                    0.058422  \n",
       "price                                  -0.003102  \n",
       "minimum nights                          0.063147  \n",
       "number of reviews                       0.099989  \n",
       "reviews per month                       0.078358  \n",
       "review rate number                     -0.006396  \n",
       "calculated host listings count          0.159341  \n",
       "availability 365                        1.000000  "
      ]
     },
     "execution_count": 45,
     "metadata": {},
     "output_type": "execute_result"
    }
   ],
   "source": [
    "corr"
   ]
  },
  {
   "cell_type": "code",
   "execution_count": 46,
   "id": "be2a482a-2726-4ba8-809e-491afb00cec1",
   "metadata": {},
   "outputs": [
    {
     "data": {
      "text/plain": [
       "<Axes: >"
      ]
     },
     "execution_count": 46,
     "metadata": {},
     "output_type": "execute_result"
    },
    {
     "data": {
      "image/png": "[encoded data removed]",
      "text/plain": [
       "<Figure size 800x600 with 2 Axes>"
      ]
     },
     "metadata": {},
     "output_type": "display_data"
    }
   ],
   "source": [
    "plt.figure(figsize=(8,6))\n",
    "sns.heatmap(data=corr,annot=True)"
   ]
  },
  {
   "cell_type": "markdown",
   "id": "227ce581-11f9-48c1-910f-e8af7ddc4cc0",
   "metadata": {},
   "source": [
    "# There is not much correlation in between any of the columns. There is a low correlation between availability 365 and calculated host listings count."
   ]
  },
  {
   "cell_type": "code",
   "execution_count": null,
   "id": "b2e68c8f-ca65-4214-bbf0-dd5a460a36d0",
   "metadata": {},
   "outputs": [],
   "source": []
  },
  {
   "cell_type": "markdown",
   "id": "fb504769-b905-4a96-85cb-d25cabd1ccbc",
   "metadata": {},
   "source": [
    "# Pairplot 'price','minimum nights','number of reviews','availability 365' in relation to room type "
   ]
  },
  {
   "cell_type": "code",
   "execution_count": null,
   "id": "4ebb925d-8b4d-44f4-b2b3-8b0eed9cb4cf",
   "metadata": {},
   "outputs": [],
   "source": [
    "pairplot=sns.pairplot(data=abnb,vars=['price','minimum nights','number of reviews','availability 365'],hue='room type')\n",
    "pairplot.fig.suptitle('Airbnb dataset',verticalalignment='top',y=1)\n",
    "pairplot.add_legend()\n"
   ]
  },
  {
   "cell_type": "markdown",
   "id": "d88791c9-d8a4-4f9a-a2c1-5102353fecdc",
   "metadata": {},
   "source": [
    "# Based on on this pairplot we can conclude that rooms that cost less have a higher number of reviews. Entire home/apt is a room type that is rented most frequently. Also listings that have greater availabilty throughout the year are rated more often."
   ]
  }
 ],
 "metadata": {
  "kernelspec": {
   "display_name": "Python [conda env:base] *",
   "language": "python",
   "name": "conda-base-py"
  },
  "language_info": {
   "codemirror_mode": {
    "name": "ipython",
    "version": 3
   },
   "file_extension": ".py",
   "mimetype": "text/x-python",
   "name": "python",
   "nbconvert_exporter": "python",
   "pygments_lexer": "ipython3",
   "version": "3.12.7"
  }
 },
 "nbformat": 4,
 "nbformat_minor": 5
}
